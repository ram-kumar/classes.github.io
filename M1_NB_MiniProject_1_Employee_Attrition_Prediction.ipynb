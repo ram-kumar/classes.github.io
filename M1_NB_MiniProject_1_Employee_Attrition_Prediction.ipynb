{
  "metadata": {
    "kernelspec": {
      "display_name": "Python 3",
      "language": "python",
      "name": "python3"
    },
    "language_info": {
      "name": "python",
      "version": "3.6.6",
      "mimetype": "text/x-python",
      "codemirror_mode": {
        "name": "ipython",
        "version": 3
      },
      "pygments_lexer": "ipython3",
      "nbconvert_exporter": "python",
      "file_extension": ".py"
    },
    "colab": {
      "provenance": [],
      "include_colab_link": true
    },
    "accelerator": "GPU",
    "gpuClass": "standard"
  },
  "nbformat_minor": 0,
  "nbformat": 4,
  "cells": [
    {
      "cell_type": "markdown",
      "metadata": {
        "id": "view-in-github",
        "colab_type": "text"
      },
      "source": [
        "<a href=\"https://colab.research.google.com/github/ram-kumar/classes.github.io/blob/master/M1_NB_MiniProject_1_Employee_Attrition_Prediction.ipynb\" target=\"_parent\"><img src=\"https://colab.research.google.com/assets/colab-badge.svg\" alt=\"Open In Colab\"/></a>"
      ]
    },
    {
      "cell_type": "markdown",
      "source": [
        "# Advanced Certification Programme in AI and MLOps\n",
        "## A programme by IISc and TalentSprint\n",
        "### Mini Project Notebook: Employee Attrition Prediction"
      ],
      "metadata": {
        "id": "hTplQkOMsKhd"
      }
    },
    {
      "cell_type": "markdown",
      "source": [
        "## Problem Statement"
      ],
      "metadata": {
        "id": "w9wsH4KikGdd"
      }
    },
    {
      "cell_type": "markdown",
      "source": [
        "To predict employee attrition using CatBoost and XgBoost"
      ],
      "metadata": {
        "id": "Bmh48BKlkIlm"
      }
    },
    {
      "cell_type": "markdown",
      "source": [
        "## Learning Objectives"
      ],
      "metadata": {
        "id": "8N0iS4ipU_XM"
      }
    },
    {
      "cell_type": "markdown",
      "source": [
        "At the end of the experiment, you will be able to\n",
        "\n",
        "* explore the employee attrition dataset\n",
        "* apply CatBoost and XgBoost on the dataset\n",
        "* tune the model hyperparameters to improve accuracy\n",
        "* evaluate the model using suitable metrics\n"
      ],
      "metadata": {
        "id": "K8OXq65pVDDS"
      }
    },
    {
      "cell_type": "markdown",
      "source": [
        "## Introduction\n",
        "\n",
        "Employee attrition is the gradual reduction in employee numbers. Employee attrition happens when the size of your workforce diminishes over time. This means that employees are leaving faster than they are hired. Employee attrition happens when employees retire, resign, or simply aren't replaced.\n",
        "Although employee attrition can be company-wide, it may also be confined to specific parts of a business.\n",
        "\n",
        "Employee attrition can happen for several reasons. These include unhappiness about employee benefits or the pay structure, a lack of employee development opportunities, and even poor conditions in the workplace.\n",
        "\n",
        "To know more about the factors that lead to employee attrition, refer [here](https://www.betterup.com/blog/employee-attrition#:~:text=Employee%20attrition%20is%20the%20gradual,or%20simply%20aren't%20replaced).\n"
      ],
      "metadata": {
        "id": "GYxPNsZuYcGk"
      }
    },
    {
      "cell_type": "markdown",
      "source": [
        "**Gradient Boosted Decision Trees**\n",
        "\n",
        "* Gradient boosted decision trees (GBDTs) are one of the most important machine learning models.\n",
        "\n",
        "* GBDTs originate from AdaBoost, an algorithm that ensembles weak learners and uses the majority vote, weighted by their individual accuracy, to solve binary classification problems. The weak learners in this case are decision trees with a single split, called decision stumps.\n",
        "\n",
        "* Some of the widely used gradient boosted decision trees are XgBoost, CatBoost and LightGBM."
      ],
      "metadata": {
        "id": "dsJP8R-j7tO8"
      }
    },
    {
      "cell_type": "markdown",
      "source": [
        "## Dataset\n",
        "\n",
        "The dataset used for this mini-project is [HR Employee Attrition dataset](https://data.world/aaizemberg/hr-employee-attrition). This dataset is synthetically created by IBM data scientists. There are 35 features and 1470 records.\n",
        "\n",
        "There are numerical features such as:\n",
        "\n",
        "* Age\n",
        "* DistanceFromHome\n",
        "* EmployeeNumber\n",
        "* PerformanceRating\n",
        "\n",
        "There are several categorical features such as:\n",
        "* JobRole\n",
        "* EducationField\n",
        "* Department\n",
        "* BusinessTravel\n",
        "\n",
        "Dependent or target feature is 'attrition' which has values as Yes/No."
      ],
      "metadata": {
        "id": "YC0AF58YH-cn"
      }
    },
    {
      "cell_type": "code",
      "metadata": {
        "id": "812a816f",
        "outputId": "db8d32b6-6a23-43e6-ff79-9dc75a037f18",
        "colab": {
          "base_uri": "https://localhost:8080/"
        }
      },
      "source": [
        "#@title Download the data\n",
        "!wget -qq https://cdn.iisc.talentsprint.com/CDS/Datasets/wa_fn_usec_hr_employee_attrition_tsv.csv\n",
        "print(\"Data Downloaded Successfuly!!\")"
      ],
      "execution_count": 1,
      "outputs": [
        {
          "output_type": "stream",
          "name": "stdout",
          "text": [
            "Data Downloaded Successfuly!!\n"
          ]
        }
      ]
    },
    {
      "cell_type": "markdown",
      "metadata": {
        "id": "operating-latter"
      },
      "source": [
        "## Grading = 10 Points"
      ]
    },
    {
      "cell_type": "markdown",
      "source": [
        "### Install CatBoost"
      ],
      "metadata": {
        "id": "1BJzstlcLh4k"
      }
    },
    {
      "cell_type": "code",
      "source": [
        "!pip -qq install catboost"
      ],
      "metadata": {
        "id": "BYeUGMBZeqtL",
        "outputId": "0a283c9e-8314-49fc-9f04-bac05b257881",
        "colab": {
          "base_uri": "https://localhost:8080/"
        }
      },
      "execution_count": 2,
      "outputs": [
        {
          "output_type": "stream",
          "name": "stdout",
          "text": [
            "\u001b[2K     \u001b[90m━━━━━━━━━━━━━━━━━━━━━━━━━━━━━━━━━━━━━━━━\u001b[0m \u001b[32m98.7/98.7 MB\u001b[0m \u001b[31m9.5 MB/s\u001b[0m eta \u001b[36m0:00:00\u001b[0m\n",
            "\u001b[?25h"
          ]
        }
      ]
    },
    {
      "cell_type": "markdown",
      "source": [
        "### Import Required Packages"
      ],
      "metadata": {
        "id": "1TmXyc2bRFvM"
      }
    },
    {
      "cell_type": "code",
      "source": [
        "import numpy as np\n",
        "import pandas as pd\n",
        "import seaborn as sns\n",
        "from matplotlib import pyplot as plt\n",
        "from sklearn.metrics import roc_auc_score, accuracy_score, confusion_matrix, f1_score\n",
        "from sklearn.model_selection import train_test_split\n",
        "from lightgbm import LGBMClassifier\n",
        "from xgboost import XGBClassifier\n",
        "from catboost import CatBoostClassifier, metrics\n",
        "import warnings\n",
        "warnings.filterwarnings(\"ignore\")\n",
        "plt.style.use('fivethirtyeight')\n",
        "pd.set_option('display.max_columns', 100)\n",
        "%matplotlib inline"
      ],
      "metadata": {
        "_uuid": "3f4d5f2c0b147e47776e71922cadb41524cb151b",
        "trusted": true,
        "id": "v50DDzl0CEVk"
      },
      "execution_count": 3,
      "outputs": []
    },
    {
      "cell_type": "markdown",
      "source": [
        "Please refer to the [ReadMe](https://drive.google.com/file/d/1g5xxfPbAj2sCdIt1oyfarJFDd_u1UwsK/view?usp=sharing) before proceeding further."
      ],
      "metadata": {
        "id": "Ol8lQ9kGxHa9"
      }
    },
    {
      "cell_type": "markdown",
      "source": [
        "# Part-A"
      ],
      "metadata": {
        "id": "-tBU6ZMlW0My"
      }
    },
    {
      "cell_type": "markdown",
      "source": [
        "## Load the Dataset"
      ],
      "metadata": {
        "id": "0E7JUtgDYBDL"
      }
    },
    {
      "cell_type": "markdown",
      "source": [
        "**Exercise 1: Read the dataset [0.5 Mark]**\n",
        "\n",
        "**Hint:** pd.read_csv()"
      ],
      "metadata": {
        "id": "xhB7KfG7lAi6"
      }
    },
    {
      "cell_type": "code",
      "source": [
        "# read the dataset\n",
        "# YOUR CODE HERE\n",
        "df = pd.read_csv(\"/content/wa_fn_usec_hr_employee_attrition_tsv.csv\")"
      ],
      "metadata": {
        "id": "82VkFRBVSbG7"
      },
      "execution_count": 4,
      "outputs": []
    },
    {
      "cell_type": "code",
      "source": [
        "# Check the shape of dataframe.\n",
        "# YOUR CODE HERE\n",
        "df.shape"
      ],
      "metadata": {
        "id": "L6QL6HbTZLjw",
        "outputId": "12201833-6532-4045-eff5-bd387ebbc4ca",
        "colab": {
          "base_uri": "https://localhost:8080/"
        }
      },
      "execution_count": 5,
      "outputs": [
        {
          "output_type": "execute_result",
          "data": {
            "text/plain": [
              "(1470, 35)"
            ]
          },
          "metadata": {},
          "execution_count": 5
        }
      ]
    },
    {
      "cell_type": "markdown",
      "source": [
        "There can be more than one file to read as this is introduced as a competition, dataset has one file for training the model. Their can be other files as one containing the test features and the other can be the true labels."
      ],
      "metadata": {
        "id": "BHxgkAr_4grD"
      }
    },
    {
      "cell_type": "markdown",
      "source": [
        "## Data Exploration\n",
        "\n",
        "- Check for missing values\n",
        "- Check for consistent data type across a feature\n",
        "- Check for outliers or inconsistencies in data columns\n",
        "- Check for correlated features\n",
        "- Do we have a target label imbalance\n",
        "- How our independent variables are distributed relative to our target label\n",
        "- Are there features that have strong linear or monotonic relationships? Making correlation heatmaps makes it easy to identify possible collinearity"
      ],
      "metadata": {
        "_uuid": "07244b5b58d56fb4ac89efc5541074263a150ce5",
        "id": "5JgkRXxYCEVn"
      }
    },
    {
      "cell_type": "markdown",
      "source": [
        "**Exercise 2: Create a `List` of numerical and categorical columns. Display a statistical description of the dataset. Remove missing values (if any) [0.5 Mark]**"
      ],
      "metadata": {
        "id": "WNypN2YmlpwG"
      }
    },
    {
      "cell_type": "markdown",
      "source": [
        "**Hint:** Use `for` to iterate through each column."
      ],
      "metadata": {
        "id": "GuQKmcv0qLWo"
      }
    },
    {
      "cell_type": "markdown",
      "source": [
        "First, we want to get a sense of our data:\n",
        "- What features have the most divergent distributions based on target class\n",
        "- Do we have a target label imbalance\n",
        "- How our independent variables are distributed relative to our target label\n",
        "- Are there features that have strong linear or monotonic relationships, making correlation heatmaps makes it easy to identify possible colinearity"
      ],
      "metadata": {
        "id": "-5LDX4tYR6Vs"
      }
    },
    {
      "cell_type": "code",
      "source": [
        "# YOUR CODE HERE\n",
        "df = df.dropna()\n",
        "df.shape"
      ],
      "metadata": {
        "id": "rOHYyNvXRwHz",
        "outputId": "d638d552-b58a-4b16-dc75-136e7ae1fe80",
        "colab": {
          "base_uri": "https://localhost:8080/"
        }
      },
      "execution_count": 8,
      "outputs": [
        {
          "output_type": "execute_result",
          "data": {
            "text/plain": [
              "(1470, 35)"
            ]
          },
          "metadata": {},
          "execution_count": 8
        }
      ]
    },
    {
      "cell_type": "code",
      "source": [
        "cat, num = [], []\n",
        "\n",
        "for col in df.columns:\n",
        "  series = df[col]\n",
        "  series = series.dropna()\n",
        "  if series.dtype == 'object':\n",
        "    cat.append(col)\n",
        "  else:\n",
        "    num.append(col)\n",
        "\n",
        "print('categorical: ', cat)\n",
        "print('numerical: ', num)\n",
        "\n",
        "print('categorical columns')\n",
        "for col in cat:\n",
        "  print(col)\n",
        "  series = df[col]\n",
        "  series = series.dropna()\n",
        "  print(series.value_counts())\n",
        "\n",
        "\n",
        "print('numerical columns')\n",
        "for col in num:\n",
        "  series = df[col]\n",
        "  series = series.dropna()\n",
        "  print(series.describe())"
      ],
      "metadata": {
        "id": "g57YS9x3GKk_",
        "outputId": "d001a95d-25dd-40af-f8be-8bbca2d5a97e",
        "colab": {
          "base_uri": "https://localhost:8080/"
        }
      },
      "execution_count": 11,
      "outputs": [
        {
          "output_type": "stream",
          "name": "stdout",
          "text": [
            "categorical:  ['attrition', 'businesstravel', 'department', 'educationfield', 'gender', 'jobrole', 'maritalstatus', 'over18', 'overtime']\n",
            "numerical:  ['age', 'dailyrate', 'distancefromhome', 'education', 'employeecount', 'employeenumber', 'environmentsatisfaction', 'hourlyrate', 'jobinvolvement', 'joblevel', 'jobsatisfaction', 'monthlyincome', 'monthlyrate', 'numcompaniesworked', 'percentsalaryhike', 'performancerating', 'relationshipsatisfaction', 'standardhours', 'stockoptionlevel', 'totalworkingyears', 'trainingtimeslastyear', 'worklifebalance', 'yearsatcompany', 'yearsincurrentrole', 'yearssincelastpromotion', 'yearswithcurrmanager']\n",
            "categorical columns\n",
            "attrition\n",
            "No     1233\n",
            "Yes     237\n",
            "Name: attrition, dtype: int64\n",
            "businesstravel\n",
            "Travel_Rarely        1043\n",
            "Travel_Frequently     277\n",
            "Non-Travel            150\n",
            "Name: businesstravel, dtype: int64\n",
            "department\n",
            "Research & Development    961\n",
            "Sales                     446\n",
            "Human Resources            63\n",
            "Name: department, dtype: int64\n",
            "educationfield\n",
            "Life Sciences       606\n",
            "Medical             464\n",
            "Marketing           159\n",
            "Technical Degree    132\n",
            "Other                82\n",
            "Human Resources      27\n",
            "Name: educationfield, dtype: int64\n",
            "gender\n",
            "Male      882\n",
            "Female    588\n",
            "Name: gender, dtype: int64\n",
            "jobrole\n",
            "Sales Executive              326\n",
            "Research Scientist           292\n",
            "Laboratory Technician        259\n",
            "Manufacturing Director       145\n",
            "Healthcare Representative    131\n",
            "Manager                      102\n",
            "Sales Representative          83\n",
            "Research Director             80\n",
            "Human Resources               52\n",
            "Name: jobrole, dtype: int64\n",
            "maritalstatus\n",
            "Married     673\n",
            "Single      470\n",
            "Divorced    327\n",
            "Name: maritalstatus, dtype: int64\n",
            "over18\n",
            "Y    1470\n",
            "Name: over18, dtype: int64\n",
            "overtime\n",
            "No     1054\n",
            "Yes     416\n",
            "Name: overtime, dtype: int64\n",
            "numerical columns\n",
            "count    1470.000000\n",
            "mean       36.923810\n",
            "std         9.135373\n",
            "min        18.000000\n",
            "25%        30.000000\n",
            "50%        36.000000\n",
            "75%        43.000000\n",
            "max        60.000000\n",
            "Name: age, dtype: float64\n",
            "count    1470.000000\n",
            "mean      802.485714\n",
            "std       403.509100\n",
            "min       102.000000\n",
            "25%       465.000000\n",
            "50%       802.000000\n",
            "75%      1157.000000\n",
            "max      1499.000000\n",
            "Name: dailyrate, dtype: float64\n",
            "count    1470.000000\n",
            "mean        9.192517\n",
            "std         8.106864\n",
            "min         1.000000\n",
            "25%         2.000000\n",
            "50%         7.000000\n",
            "75%        14.000000\n",
            "max        29.000000\n",
            "Name: distancefromhome, dtype: float64\n",
            "count    1470.000000\n",
            "mean        2.912925\n",
            "std         1.024165\n",
            "min         1.000000\n",
            "25%         2.000000\n",
            "50%         3.000000\n",
            "75%         4.000000\n",
            "max         5.000000\n",
            "Name: education, dtype: float64\n",
            "count    1470.0\n",
            "mean        1.0\n",
            "std         0.0\n",
            "min         1.0\n",
            "25%         1.0\n",
            "50%         1.0\n",
            "75%         1.0\n",
            "max         1.0\n",
            "Name: employeecount, dtype: float64\n",
            "count    1470.000000\n",
            "mean     1024.865306\n",
            "std       602.024335\n",
            "min         1.000000\n",
            "25%       491.250000\n",
            "50%      1020.500000\n",
            "75%      1555.750000\n",
            "max      2068.000000\n",
            "Name: employeenumber, dtype: float64\n",
            "count    1470.000000\n",
            "mean        2.721769\n",
            "std         1.093082\n",
            "min         1.000000\n",
            "25%         2.000000\n",
            "50%         3.000000\n",
            "75%         4.000000\n",
            "max         4.000000\n",
            "Name: environmentsatisfaction, dtype: float64\n",
            "count    1470.000000\n",
            "mean       65.891156\n",
            "std        20.329428\n",
            "min        30.000000\n",
            "25%        48.000000\n",
            "50%        66.000000\n",
            "75%        83.750000\n",
            "max       100.000000\n",
            "Name: hourlyrate, dtype: float64\n",
            "count    1470.000000\n",
            "mean        2.729932\n",
            "std         0.711561\n",
            "min         1.000000\n",
            "25%         2.000000\n",
            "50%         3.000000\n",
            "75%         3.000000\n",
            "max         4.000000\n",
            "Name: jobinvolvement, dtype: float64\n",
            "count    1470.000000\n",
            "mean        2.063946\n",
            "std         1.106940\n",
            "min         1.000000\n",
            "25%         1.000000\n",
            "50%         2.000000\n",
            "75%         3.000000\n",
            "max         5.000000\n",
            "Name: joblevel, dtype: float64\n",
            "count    1470.000000\n",
            "mean        2.728571\n",
            "std         1.102846\n",
            "min         1.000000\n",
            "25%         2.000000\n",
            "50%         3.000000\n",
            "75%         4.000000\n",
            "max         4.000000\n",
            "Name: jobsatisfaction, dtype: float64\n",
            "count     1470.000000\n",
            "mean      6502.931293\n",
            "std       4707.956783\n",
            "min       1009.000000\n",
            "25%       2911.000000\n",
            "50%       4919.000000\n",
            "75%       8379.000000\n",
            "max      19999.000000\n",
            "Name: monthlyincome, dtype: float64\n",
            "count     1470.000000\n",
            "mean     14313.103401\n",
            "std       7117.786044\n",
            "min       2094.000000\n",
            "25%       8047.000000\n",
            "50%      14235.500000\n",
            "75%      20461.500000\n",
            "max      26999.000000\n",
            "Name: monthlyrate, dtype: float64\n",
            "count    1470.000000\n",
            "mean        2.693197\n",
            "std         2.498009\n",
            "min         0.000000\n",
            "25%         1.000000\n",
            "50%         2.000000\n",
            "75%         4.000000\n",
            "max         9.000000\n",
            "Name: numcompaniesworked, dtype: float64\n",
            "count    1470.000000\n",
            "mean       15.209524\n",
            "std         3.659938\n",
            "min        11.000000\n",
            "25%        12.000000\n",
            "50%        14.000000\n",
            "75%        18.000000\n",
            "max        25.000000\n",
            "Name: percentsalaryhike, dtype: float64\n",
            "count    1470.000000\n",
            "mean        3.153741\n",
            "std         0.360824\n",
            "min         3.000000\n",
            "25%         3.000000\n",
            "50%         3.000000\n",
            "75%         3.000000\n",
            "max         4.000000\n",
            "Name: performancerating, dtype: float64\n",
            "count    1470.000000\n",
            "mean        2.712245\n",
            "std         1.081209\n",
            "min         1.000000\n",
            "25%         2.000000\n",
            "50%         3.000000\n",
            "75%         4.000000\n",
            "max         4.000000\n",
            "Name: relationshipsatisfaction, dtype: float64\n",
            "count    1470.0\n",
            "mean       80.0\n",
            "std         0.0\n",
            "min        80.0\n",
            "25%        80.0\n",
            "50%        80.0\n",
            "75%        80.0\n",
            "max        80.0\n",
            "Name: standardhours, dtype: float64\n",
            "count    1470.000000\n",
            "mean        0.793878\n",
            "std         0.852077\n",
            "min         0.000000\n",
            "25%         0.000000\n",
            "50%         1.000000\n",
            "75%         1.000000\n",
            "max         3.000000\n",
            "Name: stockoptionlevel, dtype: float64\n",
            "count    1470.000000\n",
            "mean       11.279592\n",
            "std         7.780782\n",
            "min         0.000000\n",
            "25%         6.000000\n",
            "50%        10.000000\n",
            "75%        15.000000\n",
            "max        40.000000\n",
            "Name: totalworkingyears, dtype: float64\n",
            "count    1470.000000\n",
            "mean        2.799320\n",
            "std         1.289271\n",
            "min         0.000000\n",
            "25%         2.000000\n",
            "50%         3.000000\n",
            "75%         3.000000\n",
            "max         6.000000\n",
            "Name: trainingtimeslastyear, dtype: float64\n",
            "count    1470.000000\n",
            "mean        2.761224\n",
            "std         0.706476\n",
            "min         1.000000\n",
            "25%         2.000000\n",
            "50%         3.000000\n",
            "75%         3.000000\n",
            "max         4.000000\n",
            "Name: worklifebalance, dtype: float64\n",
            "count    1470.000000\n",
            "mean        7.008163\n",
            "std         6.126525\n",
            "min         0.000000\n",
            "25%         3.000000\n",
            "50%         5.000000\n",
            "75%         9.000000\n",
            "max        40.000000\n",
            "Name: yearsatcompany, dtype: float64\n",
            "count    1470.000000\n",
            "mean        4.229252\n",
            "std         3.623137\n",
            "min         0.000000\n",
            "25%         2.000000\n",
            "50%         3.000000\n",
            "75%         7.000000\n",
            "max        18.000000\n",
            "Name: yearsincurrentrole, dtype: float64\n",
            "count    1470.000000\n",
            "mean        2.187755\n",
            "std         3.222430\n",
            "min         0.000000\n",
            "25%         0.000000\n",
            "50%         1.000000\n",
            "75%         3.000000\n",
            "max        15.000000\n",
            "Name: yearssincelastpromotion, dtype: float64\n",
            "count    1470.000000\n",
            "mean        4.123129\n",
            "std         3.568136\n",
            "min         0.000000\n",
            "25%         2.000000\n",
            "50%         3.000000\n",
            "75%         7.000000\n",
            "max        17.000000\n",
            "Name: yearswithcurrmanager, dtype: float64\n"
          ]
        }
      ]
    },
    {
      "cell_type": "markdown",
      "source": [
        "### Check for outliers"
      ],
      "metadata": {
        "id": "T5mUbdCMKBP8"
      }
    },
    {
      "cell_type": "markdown",
      "source": [
        "**Exercise 3: Create a box plot to check for outliers [0.5 Mark]**"
      ],
      "metadata": {
        "id": "cYTnAs5UqlVn"
      }
    },
    {
      "cell_type": "code",
      "source": [
        "# Check for outliers\n",
        "# YOUR CODE HERE\n",
        "sns.boxplot(df, orient='h')"
      ],
      "metadata": {
        "id": "OYTxh7gtFqyC",
        "outputId": "67c64139-6978-4f2b-b35a-6c2cd9903c6f",
        "colab": {
          "base_uri": "https://localhost:8080/",
          "height": 466
        }
      },
      "execution_count": 12,
      "outputs": [
        {
          "output_type": "execute_result",
          "data": {
            "text/plain": [
              "<Axes: >"
            ]
          },
          "metadata": {},
          "execution_count": 12
        },
        {
          "output_type": "display_data",
          "data": {
            "text/plain": [
              "<Figure size 640x480 with 1 Axes>"
            ],
            "image/png": "[encoded data removed]"
          },
          "metadata": {}
        }
      ]
    },
    {
      "cell_type": "markdown",
      "source": [
        "### Handling outliers"
      ],
      "metadata": {
        "id": "42cBMGHQQOWP"
      }
    },
    {
      "cell_type": "markdown",
      "source": [
        "**Exercise 4: Use lower bound as 25% and upper bound as 75% to handle the outliers [0.5 Mark]**"
      ],
      "metadata": {
        "id": "ei63U2m7qyGA"
      }
    },
    {
      "cell_type": "code",
      "source": [
        "# YOUR CODE HERE"
      ],
      "metadata": {
        "id": "oT3yOFPoH0SH"
      },
      "execution_count": null,
      "outputs": []
    },
    {
      "cell_type": "code",
      "source": [
        "# Recheck for outliers\n",
        "# YOUR CODE HERE"
      ],
      "metadata": {
        "id": "QvrMPhTtJTYP"
      },
      "execution_count": null,
      "outputs": []
    },
    {
      "cell_type": "markdown",
      "source": [
        "### Target label imbalance"
      ],
      "metadata": {
        "id": "_ha6PPo2iCAM"
      }
    },
    {
      "cell_type": "markdown",
      "source": [
        "**Exercise 5: Check if there is an imbalance in target label [0.5 Mark]**"
      ],
      "metadata": {
        "id": "ryNwfdldrR0j"
      }
    },
    {
      "cell_type": "markdown",
      "source": [
        "**Hint:** Use value_counts()"
      ],
      "metadata": {
        "id": "j17VKVdnrb3R"
      }
    },
    {
      "cell_type": "code",
      "source": [
        "# Count of unique values in Attrition column\n",
        "# YOUR CODE HERE"
      ],
      "metadata": {
        "id": "y1gsAjfLbi2Z"
      },
      "execution_count": null,
      "outputs": []
    },
    {
      "cell_type": "code",
      "source": [
        "# Plot barplot to visualize balance/imbalance\n",
        "# YOUR CODE HERE"
      ],
      "metadata": {
        "id": "g-8bU9moco7l"
      },
      "execution_count": null,
      "outputs": []
    },
    {
      "cell_type": "markdown",
      "source": [
        "If there is any imbalance in the dataset then a few techniques can be utilised (optional):\n",
        "1. SMOTE\n",
        "2. Cross Validation\n",
        "3. Regularizing the model's parameters"
      ],
      "metadata": {
        "id": "0N7tqroWP9iQ"
      }
    },
    {
      "cell_type": "markdown",
      "source": [
        "###Plot pairplot"
      ],
      "metadata": {
        "id": "79pQoaQ3iOG7"
      }
    },
    {
      "cell_type": "markdown",
      "source": [
        "**Exercise 6: Visualize the relationships between the predictor variables and the target variable using a pairplot [0.5 Mark]**"
      ],
      "metadata": {
        "id": "3Hfry_Fwr5nQ"
      }
    },
    {
      "cell_type": "markdown",
      "source": [
        "**Hint:** Use sns.pairplot"
      ],
      "metadata": {
        "id": "aTBi6PLqsDbk"
      }
    },
    {
      "cell_type": "code",
      "source": [
        "# Visualize a pairplot with relevant features\n",
        "# YOUR CODE HERE"
      ],
      "metadata": {
        "_uuid": "a7355f1c5bf552fca19d132df33d7994516873f6",
        "trusted": true,
        "id": "OO9RJlfrCEVp"
      },
      "execution_count": null,
      "outputs": []
    },
    {
      "cell_type": "markdown",
      "source": [
        "### Explore Correlation\n",
        "\n",
        "- Plotting the Heatmap"
      ],
      "metadata": {
        "id": "UVKpOQqPuyew"
      }
    },
    {
      "cell_type": "markdown",
      "source": [
        "**Exercise 7: Visualize the correlation among IBM employee attrition numerical features using a heatmap [0.5 Mark]**"
      ],
      "metadata": {
        "id": "aIMCrjr1sNJc"
      }
    },
    {
      "cell_type": "code",
      "source": [
        "# Visualize heatmap\n",
        "# YOUR CODE HERE"
      ],
      "metadata": {
        "id": "RC7eIV-P8rbX"
      },
      "execution_count": null,
      "outputs": []
    },
    {
      "cell_type": "markdown",
      "source": [
        "Comment on the observations made with the pairplot and heatmap"
      ],
      "metadata": {
        "id": "_FrUYzZWawAl"
      }
    },
    {
      "cell_type": "markdown",
      "source": [
        "# Part-B"
      ],
      "metadata": {
        "id": "xY9mCVZ8W604"
      }
    },
    {
      "cell_type": "markdown",
      "source": [
        "### Preparing the test feature space\n",
        "* Remove outliers if any\n",
        "* Handle the categorical feature if required\n",
        "* Other processing steps can also be followed."
      ],
      "metadata": {
        "id": "oT9AhvtTQnKV"
      }
    },
    {
      "cell_type": "code",
      "source": [
        "# YOUR CODE HERE"
      ],
      "metadata": {
        "id": "vfhan6UWQ8EX"
      },
      "execution_count": null,
      "outputs": []
    },
    {
      "cell_type": "markdown",
      "source": [
        "Optional:\n",
        "Use `Hyperopt`, a hyperparameter tuning technique to identify the best set of parameters."
      ],
      "metadata": {
        "id": "apS4f8aqWG71"
      }
    },
    {
      "cell_type": "markdown",
      "source": [
        "In the notebook, data processing is done separately for different models.\n",
        "Considering the fact that different models may require data in different format and in turn different processes may be followed to process the data.\n",
        "\n",
        "If the processing steps followed for the models are same, data processing can also be done once."
      ],
      "metadata": {
        "id": "j-ZPcVcn9w3U"
      }
    },
    {
      "cell_type": "markdown",
      "source": [
        "## Apply CatBoost\n",
        "\n",
        "Catboost was released in 2017 by Yandex, showing, by their benchmark to be faster in prediction, better in accuracy, and easier to use for categorical data across a series of GBDT tasks. Additional capabilities of catboost include plotting feature interactions and object (row) importance.\n",
        "\n",
        "[Here](https://catboost.ai/en/docs/) is the official documentation of CatBoost"
      ],
      "metadata": {
        "_uuid": "63f0a5564f30228e710a3c1b7f7914bd986b93f1",
        "id": "5ccGpKffCEVt"
      }
    },
    {
      "cell_type": "markdown",
      "source": [
        "### Data Processing for CatBoost"
      ],
      "metadata": {
        "id": "7d7v3VlYQXGY"
      }
    },
    {
      "cell_type": "markdown",
      "source": [
        "**Exercise 8: Data processing for CatBoost [1 Mark]**\n",
        "* **Copy the dataframe that was created after removing the outliers**\n",
        "* **Handle the categorical features if required**\n",
        "* **Create target column and feature space**"
      ],
      "metadata": {
        "id": "45hA2ZB9tHGW"
      }
    },
    {
      "cell_type": "markdown",
      "source": [
        "**Hint:** Column containing the information on attrition will be the target column."
      ],
      "metadata": {
        "id": "plxqVIWHt_9M"
      }
    },
    {
      "cell_type": "code",
      "source": [
        "# Copy the data\n",
        "# YOUR CODE HERE"
      ],
      "metadata": {
        "id": "V_mmH_ltZPvP"
      },
      "execution_count": null,
      "outputs": []
    },
    {
      "cell_type": "code",
      "source": [
        "# Target Column\n",
        "# YOUR CODE HERE"
      ],
      "metadata": {
        "id": "f-0M3uWuZs_B"
      },
      "execution_count": null,
      "outputs": []
    },
    {
      "cell_type": "code",
      "source": [
        "# Feature Space\n",
        "# YOUR CODE HERE"
      ],
      "metadata": {
        "id": "icGflPlLaBre"
      },
      "execution_count": null,
      "outputs": []
    },
    {
      "cell_type": "markdown",
      "source": [
        "### Model Definition"
      ],
      "metadata": {
        "id": "s0Z0cbeS4BrT"
      }
    },
    {
      "cell_type": "markdown",
      "source": [
        "**Exercise 9: Define, train the model and display the results [2 Mark]**"
      ],
      "metadata": {
        "id": "Bphb_wNwupwi"
      }
    },
    {
      "cell_type": "markdown",
      "source": [
        "**Hint:**\n",
        "* Use CatBoostClassifier() to define the model with relevant parameters.\n",
        "* Use `fit` to fit the data to the model. Refer [here](https://catboost.ai/en/docs/concepts/speed-up-training) to see some ways to speedup CatBoost training.\n",
        "* Evaluate the model using roc_auc_score, accuracy_score, f1_score, predict methods or other relevant techniques."
      ],
      "metadata": {
        "id": "K2e980Yyu3oJ"
      }
    },
    {
      "cell_type": "code",
      "source": [
        "# Create CatBoost model\n",
        "# YOUR CODE HERE"
      ],
      "metadata": {
        "id": "kIMPGCfMDIZR"
      },
      "execution_count": null,
      "outputs": []
    },
    {
      "cell_type": "code",
      "source": [
        "# Model training\n",
        "# YOUR CODE HERE"
      ],
      "metadata": {
        "id": "nkRYWmGfDMu-"
      },
      "execution_count": null,
      "outputs": []
    },
    {
      "cell_type": "markdown",
      "source": [
        "### Model performance"
      ],
      "metadata": {
        "id": "stov-GDTGrOw"
      }
    },
    {
      "cell_type": "code",
      "source": [
        "# Model performance on all sets\n",
        "# YOUR CODE HERE"
      ],
      "metadata": {
        "id": "1k6sOOU-FNs7"
      },
      "execution_count": null,
      "outputs": []
    },
    {
      "cell_type": "markdown",
      "source": [
        "## Apply XGBoost\n",
        "\n",
        "XGBoost is a workhorse gradient boosted decision tree algorithm. Its been around since 2014 and has come to dominate the Kaggle and data science community. XGB introduced gradient boosting where new models are fit to the residuals of prior models and then added together, using a gradient descent algorithm to minimize the loss.\n",
        "\n",
        "Read [here](https://xgboost.readthedocs.io/en/stable/parameter.html) on XGBoost parameters.\n",
        "\n",
        "Refer [here](https://xgboost.readthedocs.io/en/stable/python/python_api.html#xgboost.XGBClassifier) for the official documentation of XGBoost classifier."
      ],
      "metadata": {
        "id": "_hk4Kw5QGXCU"
      }
    },
    {
      "cell_type": "markdown",
      "source": [
        "### Data Processing for XGBoost\n"
      ],
      "metadata": {
        "id": "3KbfDzqudx5H"
      }
    },
    {
      "cell_type": "markdown",
      "source": [
        "**Exercise 10: Data Processing for XGBoost [1 Mark]**\n",
        "* **Copy the dataframe after the outliers were removed.**\n",
        "* **Handle the categorical features if required**\n",
        "* **Create target column and feature space**"
      ],
      "metadata": {
        "id": "Yk6NedArvxbn"
      }
    },
    {
      "cell_type": "code",
      "source": [
        "# Copy dataframe\n",
        "# YOUR CODE HERE"
      ],
      "metadata": {
        "id": "wT2RVw4JTAGp"
      },
      "execution_count": null,
      "outputs": []
    },
    {
      "cell_type": "markdown",
      "source": [
        "**Hint:** Use pd.get_dummies"
      ],
      "metadata": {
        "id": "jeTPMeNlwP2e"
      }
    },
    {
      "cell_type": "code",
      "source": [
        "# Handling categorical features\n",
        "# YOUR CODE HERE"
      ],
      "metadata": {
        "id": "QX1wnlPFWViw"
      },
      "execution_count": null,
      "outputs": []
    },
    {
      "cell_type": "code",
      "source": [
        "# Concat the dummy variables to actual dataframe and remove initial categorical columns\n",
        "# YOUR CODE HERE"
      ],
      "metadata": {
        "id": "f-K7vfixWup8"
      },
      "execution_count": null,
      "outputs": []
    },
    {
      "cell_type": "markdown",
      "source": [
        "When creating the dummy variables, the name of attrition column was changed, rename to 'attrition' again."
      ],
      "metadata": {
        "id": "usRVCrd5wkC1"
      }
    },
    {
      "cell_type": "markdown",
      "source": [
        "**Hint:** Use .rename"
      ],
      "metadata": {
        "id": "OnyrNF9Fw2eS"
      }
    },
    {
      "cell_type": "code",
      "source": [
        "# Rename target column\n",
        "# YOUR CODE HERE"
      ],
      "metadata": {
        "id": "sCkr7gvLXxLs"
      },
      "execution_count": null,
      "outputs": []
    },
    {
      "cell_type": "code",
      "source": [
        "# Feature Space\n",
        "# YOUR CODE HERE\n",
        "\n",
        "# Targer label\n",
        "# YOUR CODE HERE"
      ],
      "metadata": {
        "id": "SA-WIpLAX3KH"
      },
      "execution_count": null,
      "outputs": []
    },
    {
      "cell_type": "markdown",
      "source": [
        "### Model Definition"
      ],
      "metadata": {
        "id": "ccLyB9J04hDF"
      }
    },
    {
      "cell_type": "markdown",
      "source": [
        "**Exercise 11: Define, train the model and display the results [2 Mark]**"
      ],
      "metadata": {
        "id": "JPinBk5NxRpt"
      }
    },
    {
      "cell_type": "markdown",
      "source": [
        "**Hint:**\n",
        "* Use XGBClassifier() to define the model with relevant parameters.\n",
        "* Use `fit` to fit the data to the model.\n",
        "* Evaluate the model using roc_auc_score, accuracy_score, f1_score, predict methods or other relevant techniques."
      ],
      "metadata": {
        "id": "-LFyiv0Mxcl-"
      }
    },
    {
      "cell_type": "code",
      "source": [
        "# Create XGBoost classifier model\n",
        "# YOUR CODE HERE"
      ],
      "metadata": {
        "id": "nxtvfYpzVxTc"
      },
      "execution_count": null,
      "outputs": []
    },
    {
      "cell_type": "code",
      "source": [
        "# Model training\n",
        "# YOUR CODE HERE"
      ],
      "metadata": {
        "id": "hrN85N3X_Sar"
      },
      "execution_count": null,
      "outputs": []
    },
    {
      "cell_type": "markdown",
      "source": [
        "### Model Performance"
      ],
      "metadata": {
        "id": "cA5ZK31mPox1"
      }
    },
    {
      "cell_type": "code",
      "source": [
        "# Model performance on all sets\n",
        "# YOUR CODE HERE"
      ],
      "metadata": {
        "id": "wQXg9FhcmwIw"
      },
      "execution_count": null,
      "outputs": []
    },
    {
      "cell_type": "markdown",
      "source": [
        "## Apply LightGBM (Optional)\n",
        "\n",
        "LightGBM is an open-source GBDT framework created by Microsoft as a fast and scalable alternative to XGB and GBM. By default LightGBM will train a Gradient Boosted Decision Tree (GBDT), but it also supports random forests, Dropouts meet Multiple Additive Regression Trees (DART), and Gradient Based One-Side Sampling (Goss).\n",
        "\n",
        "To know more about LightGBM parameters, refer [here](https://lightgbm.readthedocs.io/en/latest/pythonapi/lightgbm.LGBMClassifier.html#lightgbm.LGBMClassifier)."
      ],
      "metadata": {
        "_uuid": "d1aa61b46b4cc4966124e75394f6f5a1e585f3cc",
        "id": "8Iki__IJCEVs"
      }
    },
    {
      "cell_type": "markdown",
      "source": [
        "### Feature Engineering for LightGBM"
      ],
      "metadata": {
        "id": "QGVwrT59tEx_"
      }
    },
    {
      "cell_type": "code",
      "source": [
        "## Following the same procedure as followed in XGBoost\n",
        "\n",
        "# Copy the dataframe\n",
        "# YOUR CODE HERE\n",
        "\n",
        "# Handling categorical features\n",
        "# YOUR CODE HERE\n",
        "\n",
        "# Concat the dummy variables to actual dataframe and remove initial categorical columns\n",
        "# YOUR CODE HERE\n",
        "\n",
        "# Rename target column\n",
        "# YOUR CODE HERE\n",
        "\n",
        "# Features Space\n",
        "# YOUR CODE HERE\n",
        "\n",
        "# Target Label\n",
        "# YOUR CODE HERE"
      ],
      "metadata": {
        "id": "eYq9Z02Bs4-x"
      },
      "execution_count": null,
      "outputs": []
    },
    {
      "cell_type": "markdown",
      "source": [
        "### Model Definition"
      ],
      "metadata": {
        "id": "HNxN3-gU4ZWn"
      }
    },
    {
      "cell_type": "markdown",
      "source": [
        "**Hint:**\n",
        "* Use LGBMClassifier() to define the model with relevant parameters.\n",
        "* Use `fit` to fit the data to the model.\n",
        "* Evaluate the model using roc_auc_score, accuracy_score, f1_score, predict methods or other relevant techniques."
      ],
      "metadata": {
        "id": "lrZlE4IJydou"
      }
    },
    {
      "cell_type": "code",
      "source": [
        "# Create LightGBM classifier model\n",
        "# YOUR CODE HERE"
      ],
      "metadata": {
        "id": "4fWl23dHXHAP"
      },
      "execution_count": null,
      "outputs": []
    },
    {
      "cell_type": "code",
      "source": [
        "# Model training\n",
        "# YOUR CODE HERE"
      ],
      "metadata": {
        "id": "5FktD02ntN1T"
      },
      "execution_count": null,
      "outputs": []
    },
    {
      "cell_type": "markdown",
      "source": [
        "### Model performance"
      ],
      "metadata": {
        "id": "upM6hxP_SbPw"
      }
    },
    {
      "cell_type": "code",
      "source": [
        "# Model performance on all sets\n",
        "# YOUR CODE HERE"
      ],
      "metadata": {
        "id": "mmM2WvTGSd_l"
      },
      "execution_count": null,
      "outputs": []
    },
    {
      "cell_type": "markdown",
      "source": [
        "## Results"
      ],
      "metadata": {
        "_uuid": "33789095f30bba0c1ae0d9c5c78207ba4014800b",
        "id": "18zLjk0qCEVu"
      }
    },
    {
      "cell_type": "markdown",
      "source": [
        "**Exercise 12: Create a dataframe of XGBoost results and CatBoost results and display them [0.5 Mark]**"
      ],
      "metadata": {
        "id": "2eQwUXGgy78m"
      }
    },
    {
      "cell_type": "markdown",
      "source": [
        "**Hint:** Use pd.DataFrame"
      ],
      "metadata": {
        "id": "nWQkWdRmzQ6n"
      }
    },
    {
      "cell_type": "code",
      "source": [
        "# Create a dataframe for computed metrics for different models\n",
        "# YOUR CODE HERE"
      ],
      "metadata": {
        "_uuid": "8c99bac7c8c6302c2d2fb6e00f1f17453d972265",
        "trusted": true,
        "id": "qFGMmqS-CEVu"
      },
      "execution_count": null,
      "outputs": []
    },
    {
      "cell_type": "markdown",
      "source": [
        "Reference reading:\n",
        "1. https://machinelearningmastery.com/xgboost-for-imbalanced-classification/"
      ],
      "metadata": {
        "id": "tWJ9p6CSfxAH"
      }
    }
  ]
}